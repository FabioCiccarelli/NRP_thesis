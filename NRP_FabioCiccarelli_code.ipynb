{
 "cells": [
  {
   "cell_type": "markdown",
   "metadata": {},
   "source": [
    "# Modello NRP\n",
    "## Fabio Ciccarelli, matricola n°1835348"
   ]
  },
  {
   "cell_type": "markdown",
   "metadata": {
    "heading_collapsed": true
   },
   "source": [
    "### Step 0\n",
    "\n",
    "Importing needed libraries."
   ]
  },
  {
   "cell_type": "code",
   "execution_count": 1,
   "metadata": {
    "hidden": true
   },
   "outputs": [],
   "source": [
    "import pyomo.environ as pe\n",
    "import pandas as pd\n",
    "import openpyxl\n",
    "from openpyxl import load_workbook\n",
    "from openpyxl.styles import Alignment\n",
    "import matplotlib.pyplot as plt\n",
    "import numpy as np\n",
    "import scipy.stats as stats\n",
    "import math\n",
    "\n",
    "try:\n",
    "    import ipywidgets as widgets\n",
    "except:\n",
    "    !pip install ipywidgets\n",
    "\n",
    "from ipywidgets import interact\n"
   ]
  },
  {
   "cell_type": "markdown",
   "metadata": {
    "heading_collapsed": true
   },
   "source": [
    "### Step 0.1\n",
    "\n",
    "Defining a function which returns KPIs for a given solution."
   ]
  },
  {
   "cell_type": "code",
   "execution_count": 2,
   "metadata": {
    "code_folding": [],
    "hidden": true
   },
   "outputs": [],
   "source": [
    "'''The following function takes a Pyomo model as parameter and returns some Key Performance Indicators (KPIs) about it,\n",
    "    such as information about the workload or about overtime hours. Moreover, if problem is not admissible, it returns\n",
    "    an alert message''';\n",
    "\n",
    "def KPI(model):\n",
    "    \n",
    "    if sum(model.j[s,t] for s in S for t in T)!=0:\n",
    "        print('This problem has no admissible solutions. Please try to change parameters or hire extra nurses.')\n",
    "        return\n",
    "    \n",
    "    else:\n",
    "        workload_list = []\n",
    "        hours_per_week = {}\n",
    "\n",
    "        for k in K:\n",
    "            dict_h = {}\n",
    "            for i in I:\n",
    "                dict_h[i] = 8*sum(model.x[i,s,t]() for s in S for t in weeks[k])\n",
    "\n",
    "            hours_per_week[k] = dict_h\n",
    "\n",
    "        max_weekly = 0\n",
    "\n",
    "        for k in K:\n",
    "            if max(hours_per_week[k].values())>max_weekly:\n",
    "                max_weekly = max(hours_per_week[k].values())\n",
    "\n",
    "        min_weekly = 1e6\n",
    "\n",
    "        for k in K:\n",
    "            if min(hours_per_week[k].values())<min_weekly:\n",
    "                min_weekly = min(hours_per_week[k].values())\n",
    "\n",
    "\n",
    "        for i in I:\n",
    "            workload_list.append(sum(model.x[i,s,t]()*W.at[t,s] for s in S for t in T))\n",
    "\n",
    "        print('KPI: max work-load ----> ', max(workload_list))\n",
    "        print('*'*100)\n",
    "        print('KPI: min work-load ----> ', min(workload_list))\n",
    "        print('*'*100)\n",
    "        print('KPI: max hours worked weekly ----> ', max_weekly)\n",
    "        print('*'*100)\n",
    "        print('KPI: min hours worked weekly ----> ', min_weekly)\n",
    "        print('*'*100)\n",
    "        print('KPI: overtime hours ---->', sum(model.ot[i,k]() for i in I for k in K))\n",
    "        print('*'*100)\n",
    "\n",
    "\n",
    "\n",
    "        return "
   ]
  },
  {
   "cell_type": "code",
   "execution_count": 3,
   "metadata": {
    "code_folding": [],
    "hidden": true
   },
   "outputs": [],
   "source": [
    "'''This function works the same way as KPI function does, but it also returns a dictionary (or a list, according to the\n",
    "    boolean value \"dictionary\") with a summary of those Performance Indicators. It is crucial when it comes to make plots.''';\n",
    "\n",
    "def KPI_dict(model, dictionary = False):\n",
    "    workload_list = []\n",
    "    hours_per_week = {}\n",
    "    \n",
    "    for k in K:\n",
    "        dict_h = {}\n",
    "        for i in I:\n",
    "            dict_h[i] = 8*sum(model.x[i,s,t]() for s in S for t in weeks[k])\n",
    "        \n",
    "        hours_per_week[k] = dict_h\n",
    "        \n",
    "    max_weekly = 0\n",
    "    \n",
    "    for k in K:\n",
    "        if max(hours_per_week[k].values())>max_weekly:\n",
    "            max_weekly = max(hours_per_week[k].values())\n",
    "            \n",
    "    min_weekly = 1e6\n",
    "    \n",
    "    for k in K:\n",
    "        if min(hours_per_week[k].values())<min_weekly:\n",
    "            min_weekly = min(hours_per_week[k].values())\n",
    "            \n",
    "            \n",
    "    for i in I:\n",
    "        workload_list.append(sum(model.x[i,s,t]()*W.at[t,s] for s in S for t in T))\n",
    "     \n",
    "    if dictionary == False:\n",
    "        return [max(workload_list), min(workload_list), max_weekly, min_weekly, \n",
    "               sum(model.ot[i,k]() for i in I for k in K)]\n",
    "    if dictionary == True:\n",
    "        return {'MWL':max(workload_list), \n",
    "               'mWL':min(workload_list),\n",
    "               'MHW': max_weekly,\n",
    "               'mHW':min_weekly,\n",
    "               'OT':sum(model.ot[i,k]() for i in I for k in K)}"
   ]
  },
  {
   "cell_type": "markdown",
   "metadata": {
    "heading_collapsed": true
   },
   "source": [
    "### Step 1.0\n",
    "\n",
    "Importing useful data from 'Data.xlsx' and initializing some sets and data frames."
   ]
  },
  {
   "cell_type": "code",
   "execution_count": 4,
   "metadata": {
    "hidden": true
   },
   "outputs": [],
   "source": [
    "Personnel = pd.read_excel('Data.xlsx', index_col = 0, sheet_name = 'Personnel')  # Importing the personnel sheet\n",
    "                                                                \n",
    "I = Personnel.index  # Initializing nurses' set\n",
    "\n",
    "Patients = pd.read_excel('Data.xlsx', index_col = 0, sheet_name = 'Patients') # Importing the sheet relative to daily demand\n",
    "        \n",
    "T = Patients.index   # Initializing the time-frame set \n",
    "\n",
    "S = ['Morning', 'Afternoon', 'Night']  # Initializing the daily shifts\n",
    "        \n",
    "R = pd.DataFrame(index = T, columns = S) \n",
    "\n",
    "\n",
    "\n",
    "\n",
    "W = R.copy()    # Creating a dataframe to set shifts' weight\n",
    "    \n",
    "for t in T:\n",
    "    for s in S:\n",
    "        if 'Saturday' in t or 'Sunday' in t:     \n",
    "            W.at[t, s] = 2\n",
    "        else:\n",
    "            W.at[t,s] = 1             # Weekends weigh twice as much than weekdays   \n",
    "                \n",
    "for t in T:\n",
    "    for s in S:\n",
    "        if s=='Night':\n",
    "            W.at[t,s] = W.at[t,s] * 2     # Nights weigh twice as much than diurnal shifts\n",
    "            \n",
    "\n",
    "\n",
    "'''\n",
    "Consider that night shifts on weekend days weigh four times as much than diurnal shifts on weekdays.\n",
    "''';"
   ]
  },
  {
   "cell_type": "markdown",
   "metadata": {
    "heading_collapsed": true
   },
   "source": [
    "### Step 1.1\n",
    "\n",
    "Defining some parameters and $\\textbf{day_after}$ dictionary. "
   ]
  },
  {
   "cell_type": "code",
   "execution_count": 5,
   "metadata": {
    "code_folding": [],
    "hidden": true
   },
   "outputs": [],
   "source": [
    "h_min = 24\n",
    "h_max = 40  # Creating parameters 'minimum weekly working hours' and 'maximum weekly working hours'\n",
    "\n",
    "a = {'Morning' : 5,\n",
    "    'Afternoon' : 5,\n",
    "    'Night' : 10}    # How many patients can a single nurse take care of during a given shift?\n",
    "                  # Inserted values are purely arbitrary.\n",
    "\n",
    "\n",
    "days = list(T)\n",
    "weeks={}  \n",
    "    \n",
    "    \n",
    "for j in range(0, len(days), 7):\n",
    "    weeks[int(j/7+1)] = []\n",
    "    for k in range(j, j+7):\n",
    "        weeks[int(j/7+1)].append(days[k])\n",
    "\n",
    "\n",
    "'''\n",
    "We create a week list because days that make up the T period are not supposed to be represented as\n",
    "an ordered sequence of natural numbers, but as strings like 'Monday, 1 March', 'Tuesday, 2 March', ...\n",
    "We therefore need to divide the period of time taken into account into weeks. Note that this procedure fails if in the file \n",
    "'Data.xlsx' we define a time frame T whose cardinality is not multiple of 7. \n",
    "It seems to us credible, however, that staff sheduling is defined on a weekly basis.\n",
    "\n",
    "''';\n",
    "\n",
    "K = weeks.keys()\n",
    "\n",
    "day_after = {}\n",
    "\n",
    "for j in range(0, len(days)-1):\n",
    "    day_after[days[j]] = (days[j+1])   # We could define a function as well, instead of a dictionary.\n",
    "                                       # This dictionary is crucial for constraint rest_after_night (see below)    "
   ]
  },
  {
   "cell_type": "markdown",
   "metadata": {
    "heading_collapsed": true
   },
   "source": [
    "### Step 2.0\n",
    "\n",
    "Mathematical formulation of the problem.\n",
    "\n",
    "\n",
    "\\\n",
    "$$\n",
    "\\begin{align}\n",
    "{min} \\quad z \\ \\  + &\\ \\ p_1\\sum_{i \\in I} \\sum_{k=1}^{q} {ot_{i,k}} \\ + \\ M \\sum_{s \\in S} \\sum_{t \\in T} {j_{s,t}} \\\\\n",
    "\\hspace{3 mm}\\\\\n",
    "s.t.\\hspace{13 mm} &\\sum_{s \\in S} x_{i,s,t} \\leq 1 \\quad & {i \\in I,\\ t \\in T} \\hspace{7 mm} & \\tiny\\text{(At most 1 shift a day)} \\\\\n",
    "8&\\sum_{s \\in S} \\sum_{t \\in T_k} {x_{i,s,t}} \\geq h_{min} \\quad & {i \\in I, \\ k =1,...,q} \\hspace{7 mm} & \\tiny\\text{(At least $h_{min}$ hours a week)}\\\\\n",
    "a_s ( & \\sum_{i \\in I} {x_{i,s,t}} \\ + \\ j_{s,t}) \\geq d_t \\quad & {s \\in S, \\ t \\in T} \\hspace{7 mm} & \\tiny\\text{(Demand covering)}\\\\\n",
    "& \\sum_{s \\in S} {x_{i,s,t+1}} \\leq 1 - x_{i,s3,t} \\quad & {i \\in I, \\ t \\in T} \\hspace{7 mm} & \\tiny\\text{(Rest after night shifts)}\\\\ \n",
    "8&\\sum_{s \\in S} \\sum_{ t \\in T_k} {x_{i,s,t}} - h_{max} \\leq ot_{i,k} \\quad &{i \\in I, \\ k=1,...,q} \\hspace{7 mm} &\\tiny\\text{(Overtime hours)}\\\\\n",
    "&\\sum_{s \\in S}\\sum_{t \\in T}{x_{i,s,t} \\ w_{s,t}} \\leq z \\quad & {i \\in I} \\hspace{7 mm} & \\tiny\\text {(Maximum workload)}\\\\\n",
    "\\hspace{4 mm}\\\\\n",
    "\\hspace{4 mm}\\\\\n",
    "& x_{i,s,t} \\in \\{0,1\\} \\hspace{4 mm}& {i \\in I, \\ s \\in S,\\ t \\in T}\\\\\n",
    "& ot_{i,k} \\in \\mathbb{N} &{ i \\in I, \\ k = 1,...,q}\\\\\n",
    "& j_{s,t} \\in \\mathbb{N} & {s \\in S, t \\in T}\\\\\n",
    "& z \\in \\mathbb{R_{+}}\\\\\n",
    "\\end{align}    \n",
    "$$\n",
    "​\n"
   ]
  },
  {
   "cell_type": "code",
   "execution_count": 6,
   "metadata": {
    "code_folding": [],
    "hidden": true
   },
   "outputs": [],
   "source": [
    "'''\n",
    "create_model function creates a model with the mathematical structure illustrated above. It is useful when we have to\n",
    "solve iteratively this problem, with different input data. The parameter p (the cost of a single overtime hour) is set to 100 \n",
    "by default.\n",
    "''';\n",
    "\n",
    "def create_model(p = 100):\n",
    "    \n",
    "    global m\n",
    "    \n",
    "    m = pe.ConcreteModel('NRP')\n",
    "\n",
    "    # VARIABLES\n",
    "\n",
    "    m.x = pe.Var(I, S, T, within = pe.Binary) \n",
    "\n",
    "    m.ot = pe.Var(I, K, within = pe.NonNegativeIntegers)   \n",
    "    \n",
    "    m.z = pe.Var(within = pe.NonNegativeReals)    \n",
    "    \n",
    "    m.j = pe.Var(S, T, within = pe.NonNegativeIntegers)    \n",
    "\n",
    "\n",
    "\n",
    "\n",
    "    # OBJECTIVE FUNCTION    \n",
    "\n",
    "    m.obj_fun = pe.Objective (expr = m.z + p*sum(m.ot[i, k] for i in I for k in K) + 1e6*sum(m.j[s,t] for s in S for t in T))\n",
    "\n",
    "    \n",
    "\n",
    "\n",
    "\n",
    "\n",
    "\n",
    "    # CONSTRAINTS    \n",
    "\n",
    "    def max_daily(m, i, t):\n",
    "        return sum(m.x[i, s, t] for s in S) <= 1\n",
    "\n",
    "    m.max_daily = pe.Constraint (I, T, rule = max_daily)            \n",
    "\n",
    "\n",
    "\n",
    "    def min_weekly(m, i, k):\n",
    "        return 8*sum(m.x[i, s, t] for s in S for t in weeks[k]) >= h_min\n",
    "\n",
    "    m.min_weekly = pe.Constraint (I,K, rule = min_weekly)           \n",
    "\n",
    "\n",
    "\n",
    "    def cover_demand(m, s, t):\n",
    "        return a[s]*(sum(m.x[i,s,t] for i in I)+m.j[s,t]) >= Patients.at[t, 'd']\n",
    "\n",
    "    m.cover_demand = pe.Constraint(S, T, rule = cover_demand)        \n",
    "\n",
    "\n",
    "\n",
    "    def rest_after_night(m, i, t):\n",
    "        if t == days[len(days)-1]:\n",
    "            return pe.Constraint.Skip\n",
    "        else:\n",
    "            return sum(m.x[i, s, day_after[t]] for s in S) <= (1 - m.x[i, 'Night', t])\n",
    "\n",
    "    m.rest_after_night = pe.Constraint(I, T, rule = rest_after_night)     \n",
    "\n",
    "\n",
    "\n",
    "    def overtime_hours(m, i, k):\n",
    "        return 8*sum(m.x[i, s, t] for s in S for t in weeks[k]) - h_max <= m.ot[i, k]\n",
    "\n",
    "    m.overtime_hours = pe.Constraint(I, K, rule = overtime_hours)         \n",
    "                                                                          \n",
    "\n",
    "\n",
    "    def load_upper_bound(m, i):\n",
    "        return sum(m.x[i, s, t]*W.at[t,s] for s in S for t in T) <= m.z\n",
    "\n",
    "    m.load_upper_bound = pe.Constraint(I, rule = load_upper_bound)        \n",
    "    \n",
    "    \n",
    " "
   ]
  },
  {
   "cell_type": "markdown",
   "metadata": {
    "heading_collapsed": true
   },
   "source": [
    "### Step 2.1\n",
    "\n",
    "Solving the problem and presenting results."
   ]
  },
  {
   "cell_type": "code",
   "execution_count": 7,
   "metadata": {
    "code_folding": [
     38,
     58
    ],
    "hidden": true,
    "scrolled": true
   },
   "outputs": [
    {
     "name": "stdout",
     "output_type": "stream",
     "text": [
      "KPI: max work-load ---->  33.0\n",
      "****************************************************************************************************\n",
      "KPI: min work-load ---->  32.0\n",
      "****************************************************************************************************\n",
      "KPI: max hours worked weekly ---->  56.0\n",
      "****************************************************************************************************\n",
      "KPI: min hours worked weekly ---->  32.0\n",
      "****************************************************************************************************\n",
      "KPI: overtime hours ----> 72.0\n",
      "****************************************************************************************************\n",
      "\n",
      "Total number of overtime hours in week 1 is equal to 0.0\n",
      "****************************************************************************************************\n",
      "\n",
      "Total number of overtime hours in week 2 is equal to 48.0\n",
      "****************************************************************************************************\n",
      "\n",
      "Total number of overtime hours in week 3 is equal to 0.0\n",
      "****************************************************************************************************\n",
      "\n",
      "Total number of overtime hours in week 4 is equal to 24.0\n",
      "****************************************************************************************************\n",
      "\n"
     ]
    }
   ],
   "source": [
    "create_model()\n",
    "solver = pe.SolverFactory('cplex_direct')\n",
    "solver.solve(m)\n",
    "\n",
    "standard_results = m.obj_fun()\n",
    "\n",
    "KPI(m)\n",
    "\n",
    "'''\n",
    "The code below is an idea of how output solutions could be represented and communicated to personnel. \n",
    "The idea is to obtain an Excel workbook (named Results.xlsx), with as many sheets as the nurses. In the i-th sheet there \n",
    "will be the shifts covered by the i-th nurse during T period. \n",
    "\n",
    "''';\n",
    "\n",
    "'''\n",
    "print()\n",
    "for k in K:\n",
    "    print('Total number of overtime hours in week {} is equal to {}'.format(k, sum(m.ot[i,k]() for i in I)))\n",
    "    print('*'*100)\n",
    "    print()\n",
    "\n",
    "\n",
    "\n",
    "    \n",
    "for i in I:\n",
    "    for t in T:\n",
    "        for s in S:\n",
    "            R.at[t,s] = ' '\n",
    "\n",
    "            \n",
    "wb = openpyxl.Workbook() \n",
    "wb.save('Results.xlsx')\n",
    "    \n",
    "for i in I:\n",
    "    for t in T:\n",
    "        for s in S:\n",
    "            if m.x[i,s,t]()==1:\n",
    "                R.at[t,s] = 'x'\n",
    "    with pd.ExcelWriter('Results.xlsx', mode='a', engine = 'openpyxl') as writer:\n",
    "        R.to_excel(writer,  sheet_name = i)\n",
    "    for t in T:\n",
    "        for s in S:\n",
    "            R.at[t,s] = ' '\n",
    "\n",
    "\n",
    "\n",
    "\n",
    "\n",
    "wb = load_workbook('Results.xlsx')\n",
    "\n",
    "\n",
    "for i in I:\n",
    "    ws = wb[i]\n",
    "    ws.column_dimensions['A'].width = 25\n",
    "    for col in ws.columns:\n",
    "        for cell in col:\n",
    "            cell.alignment = Alignment (horizontal = 'center')\n",
    "            \n",
    "\n",
    "wb.remove(wb['Sheet']) # Eliminazione del foglio bianco inserito di default da openpyxl\n",
    "\n",
    "wb.save('Results.xlsx')\n",
    "\n",
    "''';\n"
   ]
  },
  {
   "cell_type": "code",
   "execution_count": 8,
   "metadata": {
    "code_folding": [
     1,
     12,
     34
    ],
    "hidden": true
   },
   "outputs": [
    {
     "data": {
      "application/vnd.jupyter.widget-view+json": {
       "model_id": "399fdd5174794b44ab5008c78aad95c5",
       "version_major": 2,
       "version_minor": 0
      },
      "text/plain": [
       "interactive(children=(ToggleButton(value=False, description='Display'), Output()), _dom_classes=('widget-inter…"
      ]
     },
     "metadata": {},
     "output_type": "display_data"
    },
    {
     "data": {
      "text/plain": [
       "<function __main__.display_scheduling(display)>"
      ]
     },
     "execution_count": 8,
     "metadata": {},
     "output_type": "execute_result"
    }
   ],
   "source": [
    "'''\n",
    "The following lines of code allow to show results in an interactive way, with the possibility for the user to choose \n",
    "a single nurse, a single day or a single shift.\n",
    "''';\n",
    "\n",
    "solution = pd.DataFrame(index = None, columns = ['Day','Shift','Nurse'])\n",
    "for t in T:\n",
    "     for s in S:\n",
    "        for i in I:\n",
    "            dp = {}\n",
    "            if m.x[i,s,t]()==1:\n",
    "                dp['Day']= t\n",
    "                dp['Shift']= s\n",
    "                dp['Nurse']= i\n",
    "                solution = solution.append(dp, ignore_index=True)\n",
    "                \n",
    "                \n",
    "def interactive(nurse, day, shift):\n",
    "    \n",
    "    if nurse == 'All':\n",
    "        df_int = solution[solution['Nurse'].isin(I)]\n",
    "    else:\n",
    "        df_int = solution[solution['Nurse']==nurse]\n",
    "    \n",
    "    if day == 'All':\n",
    "        df_int = df_int[df_int['Day'].isin(T)]\n",
    "    else:\n",
    "        df_int = df_int[df_int['Day']==day]\n",
    "    \n",
    "    if shift == 'All':\n",
    "        df_int = df_int[df_int['Shift'].isin(S)]\n",
    "    else:\n",
    "        df_int = df_int[df_int['Shift']==shift]\n",
    "    \n",
    "    \n",
    "    df_int = df_int.set_index(pd.Index(list(range(1, len(df_int.index)+1))))\n",
    "    display(df_int)\n",
    "    \n",
    "\n",
    "def display_scheduling(display):\n",
    "    if display == True:\n",
    "        interact(interactive, nurse = widgets.Dropdown(value = 'All', options = list(I) + ['All']), \n",
    "                 day = widgets.Dropdown(value = 'All', options = list(T)+ ['All']), \n",
    "                 shift = widgets.Dropdown(value = 'All', options = list(S)+ ['All'])\n",
    "                );\n",
    "        \n",
    "        \n",
    "interact(display_scheduling, display = widgets.ToggleButton(value=False, description = 'Display'))\n",
    "\n"
   ]
  },
  {
   "cell_type": "markdown",
   "metadata": {
    "heading_collapsed": true
   },
   "source": [
    "### Basic model statistics"
   ]
  },
  {
   "cell_type": "code",
   "execution_count": 9,
   "metadata": {
    "hidden": true,
    "scrolled": true
   },
   "outputs": [],
   "source": [
    "avg_hours_per_week = {}\n",
    "\n",
    "for i in I:\n",
    "    avg_hours_per_week[i] = 8*sum(m.x[i,s,t]() for s in S for t in T)/len(K)\n",
    "    \n",
    "mvals = KPI_dict(m, dictionary = True).values()"
   ]
  },
  {
   "cell_type": "markdown",
   "metadata": {
    "hidden": true
   },
   "source": [
    "$$\n",
    "\\begin{align}\n",
    "\\hspace{3 mm}\\\\\n",
    "\\hspace{3 mm}\\\\\n",
    "\\end{align}\n",
    "$$"
   ]
  },
  {
   "cell_type": "markdown",
   "metadata": {
    "heading_collapsed": true
   },
   "source": [
    "## Step 3\n",
    "### Extra-nurses\n",
    "\n",
    "The problem is solved by adding a progressive number of extra nurses and interactively establishing the cost of hiring each of them.\n"
   ]
  },
  {
   "cell_type": "code",
   "execution_count": 13,
   "metadata": {
    "code_folding": [],
    "hidden": true,
    "scrolled": false
   },
   "outputs": [
    {
     "data": {
      "application/vnd.jupyter.widget-view+json": {
       "model_id": "de87ef469b514b8080f597a121635576",
       "version_major": 2,
       "version_minor": 0
      },
      "text/plain": [
       "interactive(children=(ToggleButtons(description=' ', options=('Solve', 'Change Parameters'), value='Solve'), I…"
      ]
     },
     "metadata": {},
     "output_type": "display_data"
    },
    {
     "data": {
      "text/plain": [
       "<function __main__.set_weight(solve: bool, p1: int, c: int)>"
      ]
     },
     "execution_count": 13,
     "metadata": {},
     "output_type": "execute_result"
    }
   ],
   "source": [
    "def set_weight(solve: bool, p1: int, c: int):\n",
    "    \n",
    "    global I\n",
    "    \n",
    "    \n",
    "    if solve == 'Solve':\n",
    "        \n",
    "        create_model(p1)\n",
    "        solver.solve(m)\n",
    "\n",
    "        limit = sum(m.ot[i,k]() for i in I for k in K) \n",
    "        extra = 0\n",
    "        solutions = {0: KPI_dict(m)}\n",
    "        obj_values = {0: m.obj_fun()}\n",
    "        while extra < 1e6:\n",
    "            extra += 1\n",
    "            I = I.insert(len(I),'Extra'+str(extra))\n",
    "            create_model(p1)\n",
    "            solver.solve(m)\n",
    "\n",
    "            \n",
    "            solutions[extra] = KPI_dict(m);\n",
    "            obj_values [extra] = m.obj_fun() + c*extra\n",
    "            \n",
    "            if obj_values[extra] >= obj_values[extra-1]:\n",
    "                break\n",
    "\n",
    "        print()\n",
    "        best_sol = None\n",
    "        for sol in obj_values.keys():\n",
    "            if obj_values[sol] == min(obj_values.values()):\n",
    "                best_sol = sol\n",
    "                if best_sol == 1:\n",
    "                    print('THE BEST SOLUTION IS TO HIRE **{}** EXTRA-NURSE'.format(best_sol))\n",
    "                else:\n",
    "                    print('THE BEST SOLUTION IS TO HIRE **{}** EXTRA-NURSES'.format(best_sol))\n",
    "                print('*'*100)\n",
    "                print('These are the KPIs for the optimal solution: \\n \\\n",
    "                KPI: max work-load ----> {} \\n \\\n",
    "                ************************************************************************************** \\n \\\n",
    "                KPI: min work-load ----> {} \\n \\\n",
    "                ************************************************************************************** \\n \\\n",
    "                KPI: max hours worked weekly ----> {} \\n \\\n",
    "                ************************************************************************************** \\n \\\n",
    "                KPI: min hours worked weekly ----> {} \\n \\\n",
    "                ************************************************************************************** \\n \\\n",
    "                KPI: overtime hours ----> {} \\n \\\n",
    "                ************************************************************************************** \\n \\\n",
    "                '.format(solutions[best_sol][0],\n",
    "                         solutions[best_sol][1],\n",
    "                         solutions[best_sol][2],\n",
    "                         solutions[best_sol][3],\n",
    "                         solutions[best_sol][4],))\n",
    "\n",
    "\n",
    "        #print(obj_values)\n",
    "        for i in range(best_sol+1, extra+1):\n",
    "            I = I.drop('Extra'+str(i))\n",
    "            \n",
    "        create_model(p1)\n",
    "        solver.solve(m)\n",
    "\n",
    "\n",
    "        global solution_bis \n",
    "        global I_2\n",
    "        I_2 = I.copy()\n",
    "\n",
    "        solution_bis = pd.DataFrame(index = None, columns = ['Day','Shift','Nurse'])\n",
    "        for t in T:\n",
    "             for s in S:\n",
    "                for i in I_2:\n",
    "                    dp = {}\n",
    "                    if m.x[i,s,t]()==1:     \n",
    "                        dp['Day']= t\n",
    "                        dp['Shift']= s\n",
    "                        dp['Nurse']= i\n",
    "                        solution_bis = solution_bis.append(dp, ignore_index=True)\n",
    "\n",
    "\n",
    "        avg_hours_per_week_1 = {}\n",
    "\n",
    "        for i in I:\n",
    "            avg_hours_per_week_1[i] = 8*sum(m.x[i,s,t]() for s in S for t in T)/len(K) \n",
    "\n",
    "        plt.hist(avg_hours_per_week_1.values(), bins = 20)\n",
    "        plt.title('Average working hours per week')\n",
    "        plt.show()\n",
    "\n",
    "        labels = KPI_dict(m, dictionary = True).keys()    \n",
    "        mvalues = mvals\n",
    "        m1values = KPI_dict(m, dictionary = True).values() \n",
    "\n",
    "        x = np.arange(len(labels))\n",
    "        width = 0.35  \n",
    "        fig, ax = plt.subplots()\n",
    "        rects1 = ax.bar(x - width/2, mvalues, width, label='without extra-nurses')\n",
    "        rects2 = ax.bar(x + width/2, m1values, width, label='with extra-nurses')\n",
    "\n",
    "        ax.set_title('Differences in KPIs between the two optimal solutions')\n",
    "        ax.set_xticks(x)\n",
    "        ax.set_xticklabels(labels)\n",
    "        ax.legend()\n",
    "\n",
    "        plt.show()\n",
    "\n",
    "        for i in I:\n",
    "            if 'Extra' in i:\n",
    "                I = I.drop(i)\n",
    "            \n",
    "    \n",
    "\n",
    "    \n",
    "\n",
    "    \n",
    "interact(set_weight, \n",
    "         solve = widgets.ToggleButtons(options = ['Solve', 'Change Parameters'], description = ' '),\n",
    "         p1 = widgets.IntSlider(value = 35, min = 0, max = 200, step = 1, orientation = 'horizontal', description = 'p1:'),\n",
    "         c = widgets.IntSlider(value = 1000, min = 0, max = 5000, step = 1, orientation = 'horizontal', description = 'c:'),\n",
    "        )"
   ]
  },
  {
   "cell_type": "markdown",
   "metadata": {
    "hidden": true
   },
   "source": [
    "### Presentation of sheduling obtained after hiring extra-nurses"
   ]
  },
  {
   "cell_type": "code",
   "execution_count": 11,
   "metadata": {
    "hidden": true
   },
   "outputs": [
    {
     "data": {
      "application/vnd.jupyter.widget-view+json": {
       "model_id": "ab76deb5a0cd4933a46a3593a266b7b2",
       "version_major": 2,
       "version_minor": 0
      },
      "text/plain": [
       "interactive(children=(ToggleButton(value=False, description='Display'), Output()), _dom_classes=('widget-inter…"
      ]
     },
     "metadata": {},
     "output_type": "display_data"
    },
    {
     "data": {
      "text/plain": [
       "<function __main__.display_scheduling(display)>"
      ]
     },
     "execution_count": 11,
     "metadata": {},
     "output_type": "execute_result"
    }
   ],
   "source": [
    "def interactive_bis(nurse : str, day : str, shift : str):\n",
    "    \n",
    "    \n",
    "    if nurse == 'All':\n",
    "        df_int = solution_bis[solution_bis['Nurse'].isin(I_2)]\n",
    "    else:\n",
    "        df_int = solution_bis[solution_bis['Nurse']==nurse]\n",
    "\n",
    "    if day == 'All':\n",
    "        df_int = df_int[df_int['Day'].isin(T)]\n",
    "    else:\n",
    "        df_int = df_int[df_int['Day']==day]\n",
    "\n",
    "    if shift == 'All':\n",
    "        df_int = df_int[df_int['Shift'].isin(S)]\n",
    "    else:\n",
    "        df_int = df_int[df_int['Shift']==shift]\n",
    "\n",
    "\n",
    "    df_int = df_int.set_index(pd.Index(list(range(1, len(df_int.index)+1))))\n",
    "    display(df_int)\n",
    "    \n",
    "\n",
    "def display_scheduling(display):\n",
    "    if display == True:\n",
    "        interact(interactive_bis, nurse = widgets.Dropdown(value = 'All', options = list(I_2) + ['All']), \n",
    "                 day = widgets.Dropdown(value = 'All', options = list(T)+ ['All']), \n",
    "                 shift = widgets.Dropdown(value = 'All', options = list(S)+ ['All'])\n",
    "                );\n",
    "        \n",
    "        \n",
    "interact(display_scheduling, display = widgets.ToggleButton(value=False, description = 'Display'))"
   ]
  },
  {
   "cell_type": "code",
   "execution_count": null,
   "metadata": {
    "hidden": true
   },
   "outputs": [],
   "source": []
  },
  {
   "cell_type": "code",
   "execution_count": null,
   "metadata": {
    "hidden": true
   },
   "outputs": [],
   "source": []
  }
 ],
 "metadata": {
  "kernelspec": {
   "display_name": "Python 3",
   "language": "python",
   "name": "python3"
  },
  "language_info": {
   "codemirror_mode": {
    "name": "ipython",
    "version": 3
   },
   "file_extension": ".py",
   "mimetype": "text/x-python",
   "name": "python",
   "nbconvert_exporter": "python",
   "pygments_lexer": "ipython3",
   "version": "3.8.5"
  },
  "varInspector": {
   "cols": {
    "lenName": 16,
    "lenType": 16,
    "lenVar": 40
   },
   "kernels_config": {
    "python": {
     "delete_cmd_postfix": "",
     "delete_cmd_prefix": "del ",
     "library": "var_list.py",
     "varRefreshCmd": "print(var_dic_list())"
    },
    "r": {
     "delete_cmd_postfix": ") ",
     "delete_cmd_prefix": "rm(",
     "library": "var_list.r",
     "varRefreshCmd": "cat(var_dic_list()) "
    }
   },
   "types_to_exclude": [
    "module",
    "function",
    "builtin_function_or_method",
    "instance",
    "_Feature"
   ],
   "window_display": false
  }
 },
 "nbformat": 4,
 "nbformat_minor": 4
}
